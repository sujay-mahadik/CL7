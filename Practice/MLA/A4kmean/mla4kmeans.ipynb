{
 "cells": [
  {
   "cell_type": "code",
   "execution_count": 57,
   "metadata": {},
   "outputs": [],
   "source": [
    "import pandas as pd\n",
    "import numpy as np\n",
    "import matplotlib.pyplot as plt\n",
    "from copy import deepcopy\n",
    "import copy"
   ]
  },
  {
   "cell_type": "code",
   "execution_count": 58,
   "metadata": {},
   "outputs": [
    {
     "name": "stdout",
     "output_type": "stream",
     "text": [
      "     x   y\n",
      "0   31  56\n",
      "1   22  44\n",
      "2   32   4\n",
      "3   66  25\n",
      "4   40  62\n",
      "5   16  53\n",
      "6    9  59\n",
      "7   20  78\n",
      "8   20   1\n",
      "9   65  44\n",
      "10  12  49\n",
      "11  17  14\n",
      "12   9  33\n",
      "13  31  17\n",
      "14  75  10\n",
      "15  50  46\n",
      "16  63  70\n",
      "17  19  79\n",
      "18  42  10\n",
      "19  35  15\n"
     ]
    }
   ],
   "source": [
    "X = {}\n",
    "Y = {}\n",
    "for i in range(20):\n",
    "    X[i] = np.random.randint(0, 80)\n",
    "    Y[i] = np.random.randint(0, 80)\n",
    "\n",
    "\n",
    "df = pd.DataFrame({\n",
    "    'x' : X,\n",
    "    'y' : Y\n",
    "})\n",
    "print(df)"
   ]
  },
  {
   "cell_type": "code",
   "execution_count": 59,
   "metadata": {},
   "outputs": [
    {
     "name": "stdout",
     "output_type": "stream",
     "text": [
      "{1: [50, 40], 2: [44, 35], 3: [20, 67]}\n"
     ]
    },
    {
     "data": {
      "image/png": "[encoded data removed]",
      "text/plain": [
       "<Figure size 432x288 with 1 Axes>"
      ]
     },
     "metadata": {
      "needs_background": "light"
     },
     "output_type": "display_data"
    }
   ],
   "source": [
    "k = 3\n",
    "centroids = {}\n",
    "for i in range(k):\n",
    "    centroids[i+1] = [np.random.randint(0,80), np.random.randint(0, 80)]\n",
    "\n",
    "print(centroids)\n",
    "plt.scatter(df['x'], df['y'])\n",
    "colormap = { 1 : 'r', 2 : 'g', 3: 'b'}\n",
    "\n",
    "for i in centroids.keys():\n",
    "    plt.scatter(*centroids[i], color = colormap[i])"
   ]
  },
  {
   "cell_type": "code",
   "execution_count": 60,
   "metadata": {},
   "outputs": [
    {
     "name": "stdout",
     "output_type": "stream",
     "text": [
      "['1', '2', '3']\n",
      "     x   y          1  closest color          2          3\n",
      "0   31  56  24.839485        3     b  24.698178  15.556349\n",
      "1   22  44  28.284271        3     b  23.769729  23.086793\n",
      "2   32   4  40.249224        2     g  33.241540  64.132675\n",
      "3   66  25  21.931712        1     r  24.166092  62.289646\n",
      "4   40  62  24.166092        3     b  27.294688  20.615528\n",
      "5   16  53  36.400549        3     b  33.286634  14.560220\n",
      "6    9  59  45.188494        3     b  42.438190  13.601471\n",
      "7   20  78  48.414874        3     b  49.244289  11.000000\n",
      "8   20   1  49.203658        2     g  41.617304  66.000000\n",
      "9   65  44  15.524175        1     r  22.847319  50.537115\n",
      "10  12  49  39.051248        3     b  34.928498  19.697716\n",
      "11  17  14  42.011903        2     g  34.205263  53.084838\n",
      "12   9  33  41.593269        2     g  35.057096  35.735137\n",
      "13  31  17  29.832868        2     g  22.203603  51.195703\n",
      "14  75  10  39.051248        1     r  39.824616  79.208585\n",
      "15  50  46   6.000000        1     r  12.529964  36.619667\n",
      "16  63  70  32.695565        1     r  39.824616  43.104524\n",
      "17  19  79  49.819675        3     b  50.606324  12.041595\n",
      "18  42  10  31.048349        2     g  25.079872  61.098281\n",
      "19  35  15  29.154759        2     g  21.931712  54.120237\n"
     ]
    }
   ],
   "source": [
    "col = []\n",
    "for i in range(k):\n",
    "    col.append('{}'.format(i+1))\n",
    "print(col)\n",
    "def assignment():\n",
    "    for i in centroids.keys():\n",
    "        df['{}'. format(i)] = np.sqrt((df['x'] - centroids[i][0]) ** 2 + (df['y'] - centroids[i][1]) ** 2 )\n",
    "        df['closest'] = df.loc[:, col].idxmin(axis = 1)\n",
    "        df['closest'] = df['closest'].map(lambda x : int(x))\n",
    "        df['color'] = df['closest'].map(lambda x : colormap[x])\n",
    "assignment()\n",
    "print(df)"
   ]
  },
  {
   "cell_type": "code",
   "execution_count": 61,
   "metadata": {},
   "outputs": [
    {
     "data": {
      "image/png": "[encoded data removed]",
      "text/plain": [
       "<Figure size 432x288 with 1 Axes>"
      ]
     },
     "metadata": {
      "needs_background": "light"
     },
     "output_type": "display_data"
    }
   ],
   "source": [
    "plt.scatter(df['x'], df['y'], color = df['color'], alpha = 0.5)\n",
    "\n",
    "for i in centroids.keys():\n",
    "    plt.scatter(*centroids[i], color = colormap[i])"
   ]
  },
  {
   "cell_type": "code",
   "execution_count": 62,
   "metadata": {},
   "outputs": [
    {
     "name": "stdout",
     "output_type": "stream",
     "text": [
      "{1: [63.8, 39.0], 2: [26.571428571428573, 13.428571428571429], 3: [21.125, 60.0]}\n"
     ]
    }
   ],
   "source": [
    "def update():\n",
    "    for i in centroids.keys():\n",
    "        centroids[i][0] = np.mean(df[df['closest'] == i] ['x'])\n",
    "        centroids[i][1] = np.mean(df[df['closest'] == i] ['y'])\n",
    "        \n",
    "update()\n",
    "\n",
    "print(centroids)"
   ]
  },
  {
   "cell_type": "code",
   "execution_count": 63,
   "metadata": {},
   "outputs": [],
   "source": [
    "while True:\n",
    "    lastclosest = df['closest'].copy(deep = True)\n",
    "    \n",
    "    update()\n",
    "    assignment()\n",
    "    if lastclosest.equals(df['closest']):\n",
    "        break\n"
   ]
  },
  {
   "cell_type": "code",
   "execution_count": 64,
   "metadata": {},
   "outputs": [
    {
     "data": {
      "image/png": "[encoded data removed]",
      "text/plain": [
       "<Figure size 432x288 with 1 Axes>"
      ]
     },
     "metadata": {
      "needs_background": "light"
     },
     "output_type": "display_data"
    }
   ],
   "source": [
    "plt.scatter(df['x'], df['y'], color = df['color'], alpha = 0.5)\n",
    "\n",
    "for i in centroids.keys():\n",
    "    plt.scatter(*centroids[i], color = colormap[i])"
   ]
  }
 ],
 "metadata": {
  "kernelspec": {
   "display_name": "Python 3",
   "language": "python",
   "name": "python3"
  },
  "language_info": {
   "codemirror_mode": {
    "name": "ipython",
    "version": 3
   },
   "file_extension": ".py",
   "mimetype": "text/x-python",
   "name": "python",
   "nbconvert_exporter": "python",
   "pygments_lexer": "ipython3",
   "version": "3.6.5"
  }
 },
 "nbformat": 4,
 "nbformat_minor": 2
}
